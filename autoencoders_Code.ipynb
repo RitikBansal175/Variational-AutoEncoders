{
  "nbformat": 4,
  "nbformat_minor": 0,
  "metadata": {
    "colab": {
      "name": "autoencoders project.ipynb",
      "provenance": [],
      "collapsed_sections": []
    },
    "kernelspec": {
      "name": "python3",
      "display_name": "Python 3"
    },
    "accelerator": "GPU"
  },
  "cells": [
    {
      "cell_type": "markdown",
      "metadata": {
        "id": "ufs_AT-QQZZ9",
        "colab_type": "text"
      },
      "source": [
        "# **Importing Libraries**"
      ]
    },
    {
      "cell_type": "code",
      "metadata": {
        "id": "VDa1psYoIPva",
        "colab_type": "code",
        "colab": {}
      },
      "source": [
        "#Importing libraries\n",
        "import tensorflow as tf\n",
        "import keras\n",
        "from keras.models import Model\n",
        "from keras.layers import Dense,Input\n",
        "from keras.datasets import mnist\n",
        "import numpy as np\n",
        "import matplotlib.pyplot as plt\n",
        "import tensorflow as tf\n",
        "from keras.models import load_model\n",
        "from sklearn.metrics import confusion_matrix\n",
        "from keras.layers import GaussianNoise\n"
      ],
      "execution_count": 19,
      "outputs": []
    },
    {
      "cell_type": "markdown",
      "metadata": {
        "id": "nnHqA5JjQjgD",
        "colab_type": "text"
      },
      "source": [
        "# **Input Data**"
      ]
    },
    {
      "cell_type": "code",
      "metadata": {
        "id": "2iU8ucPDITzP",
        "colab_type": "code",
        "colab": {}
      },
      "source": [
        "#Input Data \n",
        "(X_train,Y_train),(X_test,Y_test) = mnist.load_data()\n",
        "\n",
        "#Data Preprocessing\n",
        "X_train = X_train.astype('float32')\n",
        "X_test = X_test.astype('float32')\n",
        "X_train /= 255\n",
        "X_test /= 255\n",
        "#Reshaping model size (n,784) \n",
        "X_train = X_train.reshape( len(X_train) ,np.prod(X_train.shape[1:]))\n",
        "X_test = X_test.reshape(len(X_test),np.prod(X_test.shape[1:] ))\n"
      ],
      "execution_count": 7,
      "outputs": []
    },
    {
      "cell_type": "markdown",
      "metadata": {
        "id": "FabonTrRQq1f",
        "colab_type": "text"
      },
      "source": [
        "# **Autoencoder Model**"
      ]
    },
    {
      "cell_type": "code",
      "metadata": {
        "id": "dwbOELw7IX61",
        "colab_type": "code",
        "colab": {
          "base_uri": "https://localhost:8080/",
          "height": 1000
        },
        "outputId": "0373361b-5270-4091-f925-36c38385f404"
      },
      "source": [
        "#Creating Autoencoder model\n",
        "val = 64\n",
        "img = Input(shape=(784,) )\n",
        "encoded = Dense(val, activation = 'relu')(img)\n",
        "decoded = Dense(784, activation = 'sigmoid')(encoded)\n",
        "\n",
        "autoencoder = Model(img,decoded)\n",
        "\n",
        "encoder = Model(img,encoded)\n",
        "\n",
        "encoded_val= Input(shape= (val,))\n",
        "\n",
        "decoder_layer = autoencoder.layers[-1]\n",
        "\n",
        "decoder = Model(encoded_val, decoder_layer(encoded_val))\n",
        "#compiling the model\n",
        "autoencoder.compile(optimizer= 'adam', loss = 'mse', )\n",
        "\n",
        "checkpoint_filepath = '/tmp/checkpoint'\n",
        "model_checkpoint_callback = keras.callbacks.ModelCheckpoint(\n",
        "    filepath=checkpoint_filepath,\n",
        "    save_weights_only=True,\n",
        "    monitor='val_loss',\n",
        "    \n",
        "    save_best_only=True)\n",
        "\n",
        "#fitting data into model\n",
        "#1) Original data\n",
        "autoencoder.fit(X_train, X_train, batch_size=32, epochs = 100, validation_data= (X_test,X_test),callbacks=[model_checkpoint_callback] )\n",
        "autoencoder.summary()\n",
        "\n",
        "encoded_images= encoder.predict(X_test)\n",
        "decoded_images = decoder.predict(encoded_images)\n"
      ],
      "execution_count": 113,
      "outputs": [
        {
          "output_type": "stream",
          "text": [
            "Train on 60000 samples, validate on 10000 samples\n",
            "Epoch 1/100\n",
            "60000/60000 [==============================] - 6s 95us/step - loss: 0.0242 - val_loss: 0.0093\n",
            "Epoch 2/100\n",
            "60000/60000 [==============================] - 6s 94us/step - loss: 0.0070 - val_loss: 0.0054\n",
            "Epoch 3/100\n",
            "60000/60000 [==============================] - 6s 95us/step - loss: 0.0051 - val_loss: 0.0046\n",
            "Epoch 4/100\n",
            "60000/60000 [==============================] - 6s 93us/step - loss: 0.0046 - val_loss: 0.0043\n",
            "Epoch 5/100\n",
            "60000/60000 [==============================] - 6s 94us/step - loss: 0.0044 - val_loss: 0.0041\n",
            "Epoch 6/100\n",
            "60000/60000 [==============================] - 6s 95us/step - loss: 0.0042 - val_loss: 0.0041\n",
            "Epoch 7/100\n",
            "60000/60000 [==============================] - 6s 98us/step - loss: 0.0041 - val_loss: 0.0040\n",
            "Epoch 8/100\n",
            "60000/60000 [==============================] - 6s 104us/step - loss: 0.0041 - val_loss: 0.0039\n",
            "Epoch 9/100\n",
            "60000/60000 [==============================] - 6s 95us/step - loss: 0.0040 - val_loss: 0.0039\n",
            "Epoch 10/100\n",
            "60000/60000 [==============================] - 6s 95us/step - loss: 0.0040 - val_loss: 0.0038\n",
            "Epoch 11/100\n",
            "60000/60000 [==============================] - 6s 94us/step - loss: 0.0040 - val_loss: 0.0039\n",
            "Epoch 12/100\n",
            "60000/60000 [==============================] - 6s 95us/step - loss: 0.0039 - val_loss: 0.0038\n",
            "Epoch 13/100\n",
            "60000/60000 [==============================] - 6s 96us/step - loss: 0.0039 - val_loss: 0.0037\n",
            "Epoch 14/100\n",
            "60000/60000 [==============================] - 6s 96us/step - loss: 0.0039 - val_loss: 0.0038\n",
            "Epoch 15/100\n",
            "60000/60000 [==============================] - 6s 96us/step - loss: 0.0039 - val_loss: 0.0038\n",
            "Epoch 16/100\n",
            "60000/60000 [==============================] - 6s 95us/step - loss: 0.0039 - val_loss: 0.0038\n",
            "Epoch 17/100\n",
            "60000/60000 [==============================] - 6s 96us/step - loss: 0.0038 - val_loss: 0.0037\n",
            "Epoch 18/100\n",
            "60000/60000 [==============================] - 6s 95us/step - loss: 0.0038 - val_loss: 0.0037\n",
            "Epoch 19/100\n",
            "60000/60000 [==============================] - 6s 96us/step - loss: 0.0038 - val_loss: 0.0037\n",
            "Epoch 20/100\n",
            "60000/60000 [==============================] - 6s 94us/step - loss: 0.0038 - val_loss: 0.0037\n",
            "Epoch 21/100\n",
            "60000/60000 [==============================] - 6s 95us/step - loss: 0.0038 - val_loss: 0.0037\n",
            "Epoch 22/100\n",
            "60000/60000 [==============================] - 6s 94us/step - loss: 0.0038 - val_loss: 0.0037\n",
            "Epoch 23/100\n",
            "60000/60000 [==============================] - 6s 95us/step - loss: 0.0038 - val_loss: 0.0037\n",
            "Epoch 24/100\n",
            "60000/60000 [==============================] - 6s 101us/step - loss: 0.0038 - val_loss: 0.0037\n",
            "Epoch 25/100\n",
            "60000/60000 [==============================] - 6s 95us/step - loss: 0.0038 - val_loss: 0.0037\n",
            "Epoch 26/100\n",
            "60000/60000 [==============================] - 6s 95us/step - loss: 0.0038 - val_loss: 0.0037\n",
            "Epoch 27/100\n",
            "60000/60000 [==============================] - 6s 94us/step - loss: 0.0038 - val_loss: 0.0038\n",
            "Epoch 28/100\n",
            "60000/60000 [==============================] - 6s 94us/step - loss: 0.0038 - val_loss: 0.0037\n",
            "Epoch 29/100\n",
            "60000/60000 [==============================] - 6s 94us/step - loss: 0.0038 - val_loss: 0.0037\n",
            "Epoch 30/100\n",
            "60000/60000 [==============================] - 6s 95us/step - loss: 0.0037 - val_loss: 0.0037\n",
            "Epoch 31/100\n",
            "60000/60000 [==============================] - 6s 95us/step - loss: 0.0037 - val_loss: 0.0037\n",
            "Epoch 32/100\n",
            "60000/60000 [==============================] - 6s 95us/step - loss: 0.0037 - val_loss: 0.0037\n",
            "Epoch 33/100\n",
            "60000/60000 [==============================] - 6s 96us/step - loss: 0.0037 - val_loss: 0.0037\n",
            "Epoch 34/100\n",
            "60000/60000 [==============================] - 6s 95us/step - loss: 0.0037 - val_loss: 0.0037\n",
            "Epoch 35/100\n",
            "60000/60000 [==============================] - 6s 94us/step - loss: 0.0037 - val_loss: 0.0037\n",
            "Epoch 36/100\n",
            "60000/60000 [==============================] - 6s 95us/step - loss: 0.0037 - val_loss: 0.0037\n",
            "Epoch 37/100\n",
            "60000/60000 [==============================] - 6s 94us/step - loss: 0.0037 - val_loss: 0.0037\n",
            "Epoch 38/100\n",
            "60000/60000 [==============================] - 6s 93us/step - loss: 0.0037 - val_loss: 0.0037\n",
            "Epoch 39/100\n",
            "60000/60000 [==============================] - 6s 94us/step - loss: 0.0037 - val_loss: 0.0037\n",
            "Epoch 40/100\n",
            "60000/60000 [==============================] - 6s 94us/step - loss: 0.0037 - val_loss: 0.0037\n",
            "Epoch 41/100\n",
            "60000/60000 [==============================] - 6s 94us/step - loss: 0.0037 - val_loss: 0.0036\n",
            "Epoch 42/100\n",
            "60000/60000 [==============================] - 6s 94us/step - loss: 0.0037 - val_loss: 0.0037\n",
            "Epoch 43/100\n",
            "60000/60000 [==============================] - 6s 93us/step - loss: 0.0037 - val_loss: 0.0037\n",
            "Epoch 44/100\n",
            "60000/60000 [==============================] - 6s 96us/step - loss: 0.0037 - val_loss: 0.0037\n",
            "Epoch 45/100\n",
            "60000/60000 [==============================] - 6s 96us/step - loss: 0.0037 - val_loss: 0.0036\n",
            "Epoch 46/100\n",
            "60000/60000 [==============================] - 6s 95us/step - loss: 0.0037 - val_loss: 0.0037\n",
            "Epoch 47/100\n",
            "60000/60000 [==============================] - 6s 96us/step - loss: 0.0037 - val_loss: 0.0037\n",
            "Epoch 48/100\n",
            "60000/60000 [==============================] - 6s 94us/step - loss: 0.0037 - val_loss: 0.0037\n",
            "Epoch 49/100\n",
            "60000/60000 [==============================] - 6s 97us/step - loss: 0.0037 - val_loss: 0.0037\n",
            "Epoch 50/100\n",
            "60000/60000 [==============================] - 6s 95us/step - loss: 0.0037 - val_loss: 0.0037\n",
            "Epoch 51/100\n",
            "60000/60000 [==============================] - 6s 94us/step - loss: 0.0037 - val_loss: 0.0037\n",
            "Epoch 52/100\n",
            "60000/60000 [==============================] - 6s 96us/step - loss: 0.0037 - val_loss: 0.0036\n",
            "Epoch 53/100\n",
            "60000/60000 [==============================] - 6s 94us/step - loss: 0.0037 - val_loss: 0.0037\n",
            "Epoch 54/100\n",
            "60000/60000 [==============================] - 6s 94us/step - loss: 0.0037 - val_loss: 0.0036\n",
            "Epoch 55/100\n",
            "60000/60000 [==============================] - 6s 96us/step - loss: 0.0037 - val_loss: 0.0037\n",
            "Epoch 56/100\n",
            "60000/60000 [==============================] - 6s 94us/step - loss: 0.0037 - val_loss: 0.0037\n",
            "Epoch 57/100\n",
            "60000/60000 [==============================] - 6s 94us/step - loss: 0.0037 - val_loss: 0.0037\n",
            "Epoch 58/100\n",
            "60000/60000 [==============================] - 6s 95us/step - loss: 0.0037 - val_loss: 0.0036\n",
            "Epoch 59/100\n",
            "60000/60000 [==============================] - 6s 94us/step - loss: 0.0037 - val_loss: 0.0036\n",
            "Epoch 60/100\n",
            "60000/60000 [==============================] - 6s 94us/step - loss: 0.0037 - val_loss: 0.0036\n",
            "Epoch 61/100\n",
            "60000/60000 [==============================] - 6s 97us/step - loss: 0.0037 - val_loss: 0.0036\n",
            "Epoch 62/100\n",
            "60000/60000 [==============================] - 6s 101us/step - loss: 0.0037 - val_loss: 0.0036\n",
            "Epoch 63/100\n",
            "60000/60000 [==============================] - 6s 97us/step - loss: 0.0037 - val_loss: 0.0037\n",
            "Epoch 64/100\n",
            "60000/60000 [==============================] - 6s 93us/step - loss: 0.0037 - val_loss: 0.0036\n",
            "Epoch 65/100\n",
            "60000/60000 [==============================] - 6s 94us/step - loss: 0.0037 - val_loss: 0.0036\n",
            "Epoch 66/100\n",
            "60000/60000 [==============================] - 6s 93us/step - loss: 0.0037 - val_loss: 0.0036\n",
            "Epoch 67/100\n",
            "60000/60000 [==============================] - 6s 92us/step - loss: 0.0037 - val_loss: 0.0036\n",
            "Epoch 68/100\n",
            "60000/60000 [==============================] - 6s 95us/step - loss: 0.0037 - val_loss: 0.0036\n",
            "Epoch 69/100\n",
            "60000/60000 [==============================] - 6s 95us/step - loss: 0.0037 - val_loss: 0.0037\n",
            "Epoch 70/100\n",
            "60000/60000 [==============================] - 6s 95us/step - loss: 0.0037 - val_loss: 0.0036\n",
            "Epoch 71/100\n",
            "60000/60000 [==============================] - 6s 93us/step - loss: 0.0037 - val_loss: 0.0036\n",
            "Epoch 72/100\n",
            "60000/60000 [==============================] - 6s 94us/step - loss: 0.0037 - val_loss: 0.0037\n",
            "Epoch 73/100\n",
            "60000/60000 [==============================] - 6s 94us/step - loss: 0.0037 - val_loss: 0.0036\n",
            "Epoch 74/100\n",
            "60000/60000 [==============================] - 6s 94us/step - loss: 0.0037 - val_loss: 0.0036\n",
            "Epoch 75/100\n",
            "60000/60000 [==============================] - 6s 92us/step - loss: 0.0037 - val_loss: 0.0036\n",
            "Epoch 76/100\n",
            "60000/60000 [==============================] - 6s 96us/step - loss: 0.0037 - val_loss: 0.0037\n",
            "Epoch 77/100\n",
            "60000/60000 [==============================] - 6s 98us/step - loss: 0.0037 - val_loss: 0.0036\n",
            "Epoch 78/100\n",
            "60000/60000 [==============================] - 6s 97us/step - loss: 0.0037 - val_loss: 0.0036\n",
            "Epoch 79/100\n",
            "60000/60000 [==============================] - 6s 92us/step - loss: 0.0037 - val_loss: 0.0036\n",
            "Epoch 80/100\n",
            "60000/60000 [==============================] - 6s 96us/step - loss: 0.0037 - val_loss: 0.0036\n",
            "Epoch 81/100\n",
            "60000/60000 [==============================] - 9s 144us/step - loss: 0.0037 - val_loss: 0.0036\n",
            "Epoch 82/100\n",
            "60000/60000 [==============================] - 6s 96us/step - loss: 0.0037 - val_loss: 0.0036\n",
            "Epoch 83/100\n",
            "60000/60000 [==============================] - 6s 95us/step - loss: 0.0037 - val_loss: 0.0036\n",
            "Epoch 84/100\n",
            "60000/60000 [==============================] - 6s 97us/step - loss: 0.0036 - val_loss: 0.0036\n",
            "Epoch 85/100\n",
            "60000/60000 [==============================] - 6s 96us/step - loss: 0.0037 - val_loss: 0.0036\n",
            "Epoch 86/100\n",
            "60000/60000 [==============================] - 6s 97us/step - loss: 0.0036 - val_loss: 0.0036\n",
            "Epoch 87/100\n",
            "60000/60000 [==============================] - 6s 98us/step - loss: 0.0036 - val_loss: 0.0036\n",
            "Epoch 88/100\n",
            "60000/60000 [==============================] - 6s 97us/step - loss: 0.0036 - val_loss: 0.0036\n",
            "Epoch 89/100\n",
            "60000/60000 [==============================] - 6s 98us/step - loss: 0.0036 - val_loss: 0.0036\n",
            "Epoch 90/100\n",
            "60000/60000 [==============================] - 6s 99us/step - loss: 0.0036 - val_loss: 0.0036\n",
            "Epoch 91/100\n",
            "60000/60000 [==============================] - 6s 98us/step - loss: 0.0036 - val_loss: 0.0036\n",
            "Epoch 92/100\n",
            "60000/60000 [==============================] - 6s 98us/step - loss: 0.0036 - val_loss: 0.0036\n",
            "Epoch 93/100\n",
            "60000/60000 [==============================] - 6s 98us/step - loss: 0.0036 - val_loss: 0.0036\n",
            "Epoch 94/100\n",
            "60000/60000 [==============================] - 6s 97us/step - loss: 0.0036 - val_loss: 0.0036\n",
            "Epoch 95/100\n",
            "60000/60000 [==============================] - 6s 99us/step - loss: 0.0036 - val_loss: 0.0036\n",
            "Epoch 96/100\n",
            "60000/60000 [==============================] - 6s 99us/step - loss: 0.0036 - val_loss: 0.0036\n",
            "Epoch 97/100\n",
            "60000/60000 [==============================] - 6s 98us/step - loss: 0.0036 - val_loss: 0.0036\n",
            "Epoch 98/100\n",
            "60000/60000 [==============================] - 6s 98us/step - loss: 0.0036 - val_loss: 0.0036\n",
            "Epoch 99/100\n",
            "60000/60000 [==============================] - 6s 96us/step - loss: 0.0036 - val_loss: 0.0036\n",
            "Epoch 100/100\n",
            "60000/60000 [==============================] - 6s 97us/step - loss: 0.0036 - val_loss: 0.0036\n",
            "Model: \"model_7\"\n",
            "_________________________________________________________________\n",
            "Layer (type)                 Output Shape              Param #   \n",
            "=================================================================\n",
            "input_5 (InputLayer)         (None, 784)               0         \n",
            "_________________________________________________________________\n",
            "dense_50 (Dense)             (None, 64)                50240     \n",
            "_________________________________________________________________\n",
            "dense_51 (Dense)             (None, 784)               50960     \n",
            "=================================================================\n",
            "Total params: 101,200\n",
            "Trainable params: 101,200\n",
            "Non-trainable params: 0\n",
            "_________________________________________________________________\n"
          ],
          "name": "stdout"
        }
      ]
    },
    {
      "cell_type": "markdown",
      "metadata": {
        "id": "_K34R_QfRdLE",
        "colab_type": "text"
      },
      "source": [
        "# **Addition of Gaussian Noise under DP std=0.1 and results**"
      ]
    },
    {
      "cell_type": "code",
      "metadata": {
        "id": "cL47VxAKllX0",
        "colab_type": "code",
        "colab": {
          "base_uri": "https://localhost:8080/",
          "height": 408
        },
        "outputId": "afda4ff9-02d4-49d9-f62d-d556717d9bf6"
      },
      "source": [
        "import matplotlib\n",
        "index=np.random.randint(0,10000,10)\n",
        "autoencoder.load_weights(checkpoint_filepath)\n",
        "figure, ax = plt.subplots(1,10)\n",
        "for ind,title in enumerate(index):\n",
        "  ax.ravel()[ind].imshow(X_test[title].reshape(28,28))\n",
        "  plt.title('original')     \n",
        "  plt.rcParams[\"figure.figsize\"] = (50,50)\n",
        "plt.show()\n",
        "\n",
        "figure, ax = plt.subplots(1,10)\n",
        "for ind,title in enumerate(index):\n",
        "  decode_image=autoencoder.predict(X_test[title].reshape(1,784))\n",
        "  decode_image=decode_image.reshape(784,)\n",
        "  ax.ravel()[ind].imshow(decode_image.reshape(28,28))\n",
        "  plt.title('decoded')     \n",
        "  plt.rcParams[\"figure.figsize\"] = (50,50)\n",
        "plt.show()\n",
        "\n",
        "# noise to be added\n",
        "#std=senstivity/epsilon\n",
        "std=0.1\n",
        "\n",
        "old_weights = autoencoder.layers[1].get_weights()\n",
        "# adding gaussian noise in bias of first layer\n",
        "old_weights[1]=old_weights[1]+np.random.normal(0,std,64)\n",
        "# adding gaussiann noise in weights of first layer\n",
        "for i in range(784):\n",
        "  old_weights[0][i]=old_weights[0][i]+np.random.normal(0,std,64)\n",
        "\n",
        "old_weights_2=autoencoder.layers[2].get_weights()\n",
        "# adding gaussian noise in bias of second layer\n",
        "old_weights_2[1]=old_weights_2[1]+np.random.normal(0,std,784)\n",
        "# adding gaussiann noise in weights of second layer\n",
        "for i in range(64):\n",
        "  old_weights_2[0][i]=old_weights_2[0][i]+np.random.normal(0,std,784)\n",
        "\n",
        "model1=autoencoder\n",
        "model1.layers[1].set_weights(old_weights)\n",
        "model1.layers[2].set_weights(old_weights_2)\n",
        "\n",
        "\n",
        "figure, ax = plt.subplots(1,10)\n",
        "for ind,title in enumerate(index):\n",
        "  decode_image=model1.predict(X_test[title].reshape(1,784))\n",
        "  decode_image=decode_image.reshape(784,)\n",
        "  ax.ravel()[ind].imshow(decode_image.reshape(28,28))\n",
        "  plt.title('after noise addition')     \n",
        "  plt.rcParams[\"figure.figsize\"] = (50,50)\n",
        "plt.show()\n",
        "\n",
        "\n"
      ],
      "execution_count": 114,
      "outputs": [
        {
          "output_type": "display_data",
          "data": {
            "image/png": "[encoded data removed]",
            "text/plain": [
              "<Figure size 3600x3600 with 10 Axes>"
            ]
          },
          "metadata": {
            "tags": [],
            "needs_background": "light"
          }
        },
        {
          "output_type": "display_data",
          "data": {
            "image/png": "[encoded data removed]",
            "text/plain": [
              "<Figure size 3600x3600 with 10 Axes>"
            ]
          },
          "metadata": {
            "tags": [],
            "needs_background": "light"
          }
        },
        {
          "output_type": "display_data",
          "data": {
            "image/png": "[encoded data removed]",
            "text/plain": [
              "<Figure size 3600x3600 with 10 Axes>"
            ]
          },
          "metadata": {
            "tags": [],
            "needs_background": "light"
          }
        }
      ]
    },
    {
      "cell_type": "markdown",
      "metadata": {
        "id": "ivQjtJCQRpJ9",
        "colab_type": "text"
      },
      "source": [
        "# **A DNN Model**"
      ]
    },
    {
      "cell_type": "code",
      "metadata": {
        "id": "bpcDjOxliZEa",
        "colab_type": "code",
        "colab": {
          "base_uri": "https://localhost:8080/",
          "height": 1000
        },
        "outputId": "96a3b1e8-44ca-4e4b-b806-1afcbb87f7d7"
      },
      "source": [
        "truemodel=tf.keras.Sequential([\n",
        "tf.keras.layers.Dense(512),\n",
        "tf.keras.layers.Dense(256),\n",
        "tf.keras.layers.Dense(128),\n",
        "tf.keras.layers.Dense(64),\n",
        "tf.keras.layers.Dense(10)\n",
        "])\n",
        "\n",
        "checkpoint_filepath = '/tmp/checkpoint1'\n",
        "model_checkpoint_callback = tf.keras.callbacks.ModelCheckpoint(\n",
        "    filepath=checkpoint_filepath,\n",
        "    save_weights_only=True,\n",
        "    monitor='val_loss',\n",
        "    \n",
        "    save_best_only=True)\n",
        "\n",
        "truemodel.compile(optimizer=('adam'),loss=tf.keras.losses.SparseCategoricalCrossentropy(from_logits=True),metrics=['accuracy'])\n",
        "truemodel.fit(X_train,Y_train,epochs=50,validation_data=(X_test,Y_test),callbacks=[model_checkpoint_callback])"
      ],
      "execution_count": 119,
      "outputs": [
        {
          "output_type": "stream",
          "text": [
            "Epoch 1/50\n",
            "1875/1875 [==============================] - 5s 3ms/step - loss: 0.4354 - accuracy: 0.8739 - val_loss: 0.3552 - val_accuracy: 0.8980\n",
            "Epoch 2/50\n",
            "1875/1875 [==============================] - 5s 3ms/step - loss: 0.3647 - accuracy: 0.8957 - val_loss: 0.3131 - val_accuracy: 0.9132\n",
            "Epoch 3/50\n",
            "1875/1875 [==============================] - 5s 3ms/step - loss: 0.3414 - accuracy: 0.9025 - val_loss: 0.3370 - val_accuracy: 0.9066\n",
            "Epoch 4/50\n",
            "1875/1875 [==============================] - 5s 3ms/step - loss: 0.3253 - accuracy: 0.9072 - val_loss: 0.3211 - val_accuracy: 0.9109\n",
            "Epoch 5/50\n",
            "1875/1875 [==============================] - 5s 3ms/step - loss: 0.3180 - accuracy: 0.9094 - val_loss: 0.3167 - val_accuracy: 0.9123\n",
            "Epoch 6/50\n",
            "1875/1875 [==============================] - 6s 3ms/step - loss: 0.3112 - accuracy: 0.9118 - val_loss: 0.2973 - val_accuracy: 0.9161\n",
            "Epoch 7/50\n",
            "1875/1875 [==============================] - 5s 3ms/step - loss: 0.3036 - accuracy: 0.9142 - val_loss: 0.3102 - val_accuracy: 0.9131\n",
            "Epoch 8/50\n",
            "1875/1875 [==============================] - 5s 3ms/step - loss: 0.3012 - accuracy: 0.9146 - val_loss: 0.3266 - val_accuracy: 0.9023\n",
            "Epoch 9/50\n",
            "1875/1875 [==============================] - 5s 3ms/step - loss: 0.2960 - accuracy: 0.9162 - val_loss: 0.3084 - val_accuracy: 0.9176\n",
            "Epoch 10/50\n",
            "1875/1875 [==============================] - 5s 3ms/step - loss: 0.2909 - accuracy: 0.9173 - val_loss: 0.3105 - val_accuracy: 0.9108\n",
            "Epoch 11/50\n",
            "1875/1875 [==============================] - 5s 3ms/step - loss: 0.2890 - accuracy: 0.9184 - val_loss: 0.2965 - val_accuracy: 0.9182\n",
            "Epoch 12/50\n",
            "1875/1875 [==============================] - 5s 3ms/step - loss: 0.2876 - accuracy: 0.9174 - val_loss: 0.3117 - val_accuracy: 0.9153\n",
            "Epoch 13/50\n",
            "1875/1875 [==============================] - 5s 3ms/step - loss: 0.2853 - accuracy: 0.9198 - val_loss: 0.3090 - val_accuracy: 0.9087\n",
            "Epoch 14/50\n",
            "1875/1875 [==============================] - 5s 3ms/step - loss: 0.2822 - accuracy: 0.9204 - val_loss: 0.2969 - val_accuracy: 0.9170\n",
            "Epoch 15/50\n",
            "1875/1875 [==============================] - 5s 3ms/step - loss: 0.2799 - accuracy: 0.9202 - val_loss: 0.2916 - val_accuracy: 0.9184\n",
            "Epoch 16/50\n",
            "1875/1875 [==============================] - 5s 3ms/step - loss: 0.2775 - accuracy: 0.9210 - val_loss: 0.3040 - val_accuracy: 0.9176\n",
            "Epoch 17/50\n",
            "1875/1875 [==============================] - 5s 3ms/step - loss: 0.2778 - accuracy: 0.9224 - val_loss: 0.2990 - val_accuracy: 0.9163\n",
            "Epoch 18/50\n",
            "1875/1875 [==============================] - 5s 3ms/step - loss: 0.2773 - accuracy: 0.9223 - val_loss: 0.2947 - val_accuracy: 0.9153\n",
            "Epoch 19/50\n",
            "1875/1875 [==============================] - 5s 3ms/step - loss: 0.2745 - accuracy: 0.9224 - val_loss: 0.3130 - val_accuracy: 0.9128\n",
            "Epoch 20/50\n",
            "1875/1875 [==============================] - 5s 3ms/step - loss: 0.2732 - accuracy: 0.9230 - val_loss: 0.2881 - val_accuracy: 0.9207\n",
            "Epoch 21/50\n",
            "1875/1875 [==============================] - 5s 3ms/step - loss: 0.2716 - accuracy: 0.9230 - val_loss: 0.3132 - val_accuracy: 0.9110\n",
            "Epoch 22/50\n",
            "1875/1875 [==============================] - 5s 3ms/step - loss: 0.2726 - accuracy: 0.9235 - val_loss: 0.3057 - val_accuracy: 0.9176\n",
            "Epoch 23/50\n",
            "1875/1875 [==============================] - 5s 3ms/step - loss: 0.2722 - accuracy: 0.9226 - val_loss: 0.2992 - val_accuracy: 0.9157\n",
            "Epoch 24/50\n",
            "1875/1875 [==============================] - 5s 3ms/step - loss: 0.2691 - accuracy: 0.9244 - val_loss: 0.3156 - val_accuracy: 0.9104\n",
            "Epoch 25/50\n",
            "1875/1875 [==============================] - 5s 3ms/step - loss: 0.2689 - accuracy: 0.9233 - val_loss: 0.3265 - val_accuracy: 0.9157\n",
            "Epoch 26/50\n",
            "1875/1875 [==============================] - 5s 3ms/step - loss: 0.2681 - accuracy: 0.9233 - val_loss: 0.2880 - val_accuracy: 0.9218\n",
            "Epoch 27/50\n",
            "1875/1875 [==============================] - 5s 3ms/step - loss: 0.2668 - accuracy: 0.9241 - val_loss: 0.2925 - val_accuracy: 0.9198\n",
            "Epoch 28/50\n",
            "1875/1875 [==============================] - 5s 3ms/step - loss: 0.2679 - accuracy: 0.9243 - val_loss: 0.3116 - val_accuracy: 0.9143\n",
            "Epoch 29/50\n",
            "1875/1875 [==============================] - 5s 3ms/step - loss: 0.2662 - accuracy: 0.9244 - val_loss: 0.3094 - val_accuracy: 0.9153\n",
            "Epoch 30/50\n",
            "1875/1875 [==============================] - 5s 3ms/step - loss: 0.2648 - accuracy: 0.9259 - val_loss: 0.2908 - val_accuracy: 0.9230\n",
            "Epoch 31/50\n",
            "1875/1875 [==============================] - 5s 3ms/step - loss: 0.2646 - accuracy: 0.9250 - val_loss: 0.2969 - val_accuracy: 0.9172\n",
            "Epoch 32/50\n",
            "1875/1875 [==============================] - 5s 3ms/step - loss: 0.2639 - accuracy: 0.9255 - val_loss: 0.2966 - val_accuracy: 0.9187\n",
            "Epoch 33/50\n",
            "1875/1875 [==============================] - 5s 3ms/step - loss: 0.2634 - accuracy: 0.9257 - val_loss: 0.3058 - val_accuracy: 0.9171\n",
            "Epoch 34/50\n",
            "1875/1875 [==============================] - 5s 3ms/step - loss: 0.2633 - accuracy: 0.9241 - val_loss: 0.2949 - val_accuracy: 0.9186\n",
            "Epoch 35/50\n",
            "1875/1875 [==============================] - 5s 3ms/step - loss: 0.2624 - accuracy: 0.9250 - val_loss: 0.3016 - val_accuracy: 0.9183\n",
            "Epoch 36/50\n",
            "1875/1875 [==============================] - 5s 3ms/step - loss: 0.2617 - accuracy: 0.9267 - val_loss: 0.2883 - val_accuracy: 0.9223\n",
            "Epoch 37/50\n",
            "1875/1875 [==============================] - 6s 3ms/step - loss: 0.2610 - accuracy: 0.9262 - val_loss: 0.2992 - val_accuracy: 0.9172\n",
            "Epoch 38/50\n",
            "1875/1875 [==============================] - 6s 3ms/step - loss: 0.2612 - accuracy: 0.9267 - val_loss: 0.3006 - val_accuracy: 0.9191\n",
            "Epoch 39/50\n",
            "1875/1875 [==============================] - 5s 3ms/step - loss: 0.2601 - accuracy: 0.9259 - val_loss: 0.3129 - val_accuracy: 0.9176\n",
            "Epoch 40/50\n",
            "1875/1875 [==============================] - 5s 3ms/step - loss: 0.2590 - accuracy: 0.9263 - val_loss: 0.3008 - val_accuracy: 0.9197\n",
            "Epoch 41/50\n",
            "1875/1875 [==============================] - 5s 3ms/step - loss: 0.2578 - accuracy: 0.9265 - val_loss: 0.2967 - val_accuracy: 0.9203\n",
            "Epoch 42/50\n",
            "1875/1875 [==============================] - 5s 3ms/step - loss: 0.2578 - accuracy: 0.9275 - val_loss: 0.3103 - val_accuracy: 0.9164\n",
            "Epoch 43/50\n",
            "1875/1875 [==============================] - 5s 3ms/step - loss: 0.2576 - accuracy: 0.9272 - val_loss: 0.3072 - val_accuracy: 0.9193\n",
            "Epoch 44/50\n",
            "1875/1875 [==============================] - 5s 3ms/step - loss: 0.2575 - accuracy: 0.9273 - val_loss: 0.3003 - val_accuracy: 0.9187\n",
            "Epoch 45/50\n",
            "1875/1875 [==============================] - 5s 3ms/step - loss: 0.2573 - accuracy: 0.9269 - val_loss: 0.3055 - val_accuracy: 0.9169\n",
            "Epoch 46/50\n",
            "1875/1875 [==============================] - 5s 3ms/step - loss: 0.2562 - accuracy: 0.9280 - val_loss: 0.3045 - val_accuracy: 0.9186\n",
            "Epoch 47/50\n",
            "1875/1875 [==============================] - 5s 3ms/step - loss: 0.2578 - accuracy: 0.9274 - val_loss: 0.2981 - val_accuracy: 0.9206\n",
            "Epoch 48/50\n",
            "1875/1875 [==============================] - 5s 3ms/step - loss: 0.2566 - accuracy: 0.9262 - val_loss: 0.3061 - val_accuracy: 0.9167\n",
            "Epoch 49/50\n",
            "1875/1875 [==============================] - 5s 3ms/step - loss: 0.2563 - accuracy: 0.9283 - val_loss: 0.2979 - val_accuracy: 0.9200\n",
            "Epoch 50/50\n",
            "1875/1875 [==============================] - 6s 3ms/step - loss: 0.2555 - accuracy: 0.9266 - val_loss: 0.2947 - val_accuracy: 0.9194\n"
          ],
          "name": "stdout"
        },
        {
          "output_type": "execute_result",
          "data": {
            "text/plain": [
              "<tensorflow.python.keras.callbacks.History at 0x7fa8a6d229b0>"
            ]
          },
          "metadata": {
            "tags": []
          },
          "execution_count": 119
        }
      ]
    },
    {
      "cell_type": "code",
      "metadata": {
        "id": "TXW5ZUf2-5dQ",
        "colab_type": "code",
        "colab": {
          "base_uri": "https://localhost:8080/",
          "height": 72
        },
        "outputId": "d1ad5210-5440-4fe5-b4d0-c177cf289666"
      },
      "source": [
        "truemodel.load_weights(checkpoint_filepath)\n",
        "results = truemodel.evaluate(X_test, Y_test, batch_size=128)\n",
        "print('truemodel')\n",
        "print(\"test loss, test acc:\", results)\n"
      ],
      "execution_count": 120,
      "outputs": [
        {
          "output_type": "stream",
          "text": [
            "79/79 [==============================] - 0s 3ms/step - loss: 0.2880 - accuracy: 0.9218\n",
            "truemodel\n",
            "test loss, test acc: [0.288004070520401, 0.9218000173568726]\n"
          ],
          "name": "stdout"
        }
      ]
    },
    {
      "cell_type": "markdown",
      "metadata": {
        "id": "aDG3UhN7U5ZT",
        "colab_type": "text"
      },
      "source": [
        "# **A DNN Model with Differential Private Dataset**"
      ]
    },
    {
      "cell_type": "code",
      "metadata": {
        "id": "-rWesqRK_lzv",
        "colab_type": "code",
        "colab": {}
      },
      "source": [
        "xtrain_noisy=model1.predict(X_train)\n",
        "xtest_noisy=model1.predict(X_test)"
      ],
      "execution_count": 30,
      "outputs": []
    },
    {
      "cell_type": "code",
      "metadata": {
        "id": "mLvqXzr2_Y_c",
        "colab_type": "code",
        "colab": {
          "base_uri": "https://localhost:8080/",
          "height": 1000
        },
        "outputId": "93fda0b8-6373-47d1-8cd2-9a1748ed0aa9"
      },
      "source": [
        "testmodel=tf.keras.Sequential([\n",
        "tf.keras.layers.Dense(512),\n",
        "tf.keras.layers.Dense(256),\n",
        "tf.keras.layers.Dense(128),\n",
        "tf.keras.layers.Dense(64),\n",
        "tf.keras.layers.Dense(10)\n",
        "])\n",
        "\n",
        "checkpoint_filepath = '/tmp/checkpoint2'\n",
        "model_checkpoint_callback = tf.keras.callbacks.ModelCheckpoint(\n",
        "    filepath=checkpoint_filepath,\n",
        "    save_weights_only=True,\n",
        "    monitor='val_loss',\n",
        "    \n",
        "    save_best_only=True)\n",
        "testmodel.compile(optimizer=('adam'),loss=tf.keras.losses.SparseCategoricalCrossentropy(from_logits=True),metrics=['accuracy'])\n",
        "testmodel.fit(xtrain_noisy,Y_train,epochs=50,validation_data=(xtest_noisy,Y_test),callbacks=[model_checkpoint_callback])"
      ],
      "execution_count": 115,
      "outputs": [
        {
          "output_type": "stream",
          "text": [
            "Epoch 1/50\n",
            "1875/1875 [==============================] - 5s 3ms/step - loss: 0.4420 - accuracy: 0.8643 - val_loss: 0.3677 - val_accuracy: 0.8858\n",
            "Epoch 2/50\n",
            "1875/1875 [==============================] - 5s 3ms/step - loss: 0.3255 - accuracy: 0.9009 - val_loss: 0.2994 - val_accuracy: 0.9131\n",
            "Epoch 3/50\n",
            "1875/1875 [==============================] - 5s 3ms/step - loss: 0.2954 - accuracy: 0.9080 - val_loss: 0.2639 - val_accuracy: 0.9218\n",
            "Epoch 4/50\n",
            "1875/1875 [==============================] - 5s 3ms/step - loss: 0.2767 - accuracy: 0.9144 - val_loss: 0.2771 - val_accuracy: 0.9170\n",
            "Epoch 5/50\n",
            "1875/1875 [==============================] - 5s 3ms/step - loss: 0.2567 - accuracy: 0.9195 - val_loss: 0.2380 - val_accuracy: 0.9290\n",
            "Epoch 6/50\n",
            "1875/1875 [==============================] - 5s 3ms/step - loss: 0.2485 - accuracy: 0.9232 - val_loss: 0.2526 - val_accuracy: 0.9240\n",
            "Epoch 7/50\n",
            "1875/1875 [==============================] - 6s 3ms/step - loss: 0.2408 - accuracy: 0.9257 - val_loss: 0.2558 - val_accuracy: 0.9242\n",
            "Epoch 8/50\n",
            "1875/1875 [==============================] - 6s 3ms/step - loss: 0.2316 - accuracy: 0.9274 - val_loss: 0.2985 - val_accuracy: 0.9153\n",
            "Epoch 9/50\n",
            "1875/1875 [==============================] - 5s 3ms/step - loss: 0.2254 - accuracy: 0.9306 - val_loss: 0.2472 - val_accuracy: 0.9281\n",
            "Epoch 10/50\n",
            "1875/1875 [==============================] - 5s 3ms/step - loss: 0.2200 - accuracy: 0.9309 - val_loss: 0.2877 - val_accuracy: 0.9136\n",
            "Epoch 11/50\n",
            "1875/1875 [==============================] - 5s 3ms/step - loss: 0.2181 - accuracy: 0.9317 - val_loss: 0.2499 - val_accuracy: 0.9270\n",
            "Epoch 12/50\n",
            "1875/1875 [==============================] - 6s 3ms/step - loss: 0.2142 - accuracy: 0.9331 - val_loss: 0.2530 - val_accuracy: 0.9251\n",
            "Epoch 13/50\n",
            "1875/1875 [==============================] - 5s 3ms/step - loss: 0.2098 - accuracy: 0.9348 - val_loss: 0.2322 - val_accuracy: 0.9300\n",
            "Epoch 14/50\n",
            "1875/1875 [==============================] - 6s 3ms/step - loss: 0.2068 - accuracy: 0.9348 - val_loss: 0.2479 - val_accuracy: 0.9270\n",
            "Epoch 15/50\n",
            "1875/1875 [==============================] - 5s 3ms/step - loss: 0.2047 - accuracy: 0.9348 - val_loss: 0.2321 - val_accuracy: 0.9325\n",
            "Epoch 16/50\n",
            "1875/1875 [==============================] - 5s 3ms/step - loss: 0.2024 - accuracy: 0.9365 - val_loss: 0.2430 - val_accuracy: 0.9297\n",
            "Epoch 17/50\n",
            "1875/1875 [==============================] - 5s 3ms/step - loss: 0.2010 - accuracy: 0.9374 - val_loss: 0.2495 - val_accuracy: 0.9257\n",
            "Epoch 18/50\n",
            "1875/1875 [==============================] - 5s 3ms/step - loss: 0.1959 - accuracy: 0.9381 - val_loss: 0.2443 - val_accuracy: 0.9262\n",
            "Epoch 19/50\n",
            "1875/1875 [==============================] - 5s 3ms/step - loss: 0.1977 - accuracy: 0.9390 - val_loss: 0.2327 - val_accuracy: 0.9320\n",
            "Epoch 20/50\n",
            "1875/1875 [==============================] - 5s 3ms/step - loss: 0.1938 - accuracy: 0.9395 - val_loss: 0.2486 - val_accuracy: 0.9280\n",
            "Epoch 21/50\n",
            "1875/1875 [==============================] - 5s 3ms/step - loss: 0.1916 - accuracy: 0.9395 - val_loss: 0.2448 - val_accuracy: 0.9254\n",
            "Epoch 22/50\n",
            "1875/1875 [==============================] - 6s 3ms/step - loss: 0.1876 - accuracy: 0.9410 - val_loss: 0.2218 - val_accuracy: 0.9332\n",
            "Epoch 23/50\n",
            "1875/1875 [==============================] - 6s 3ms/step - loss: 0.1906 - accuracy: 0.9403 - val_loss: 0.2331 - val_accuracy: 0.9300\n",
            "Epoch 24/50\n",
            "1875/1875 [==============================] - 5s 3ms/step - loss: 0.1877 - accuracy: 0.9403 - val_loss: 0.2329 - val_accuracy: 0.9315\n",
            "Epoch 25/50\n",
            "1875/1875 [==============================] - 5s 3ms/step - loss: 0.1862 - accuracy: 0.9415 - val_loss: 0.2205 - val_accuracy: 0.9343\n",
            "Epoch 26/50\n",
            "1875/1875 [==============================] - 5s 3ms/step - loss: 0.1872 - accuracy: 0.9412 - val_loss: 0.2248 - val_accuracy: 0.9341\n",
            "Epoch 27/50\n",
            "1875/1875 [==============================] - 5s 3ms/step - loss: 0.1815 - accuracy: 0.9426 - val_loss: 0.2939 - val_accuracy: 0.9134\n",
            "Epoch 28/50\n",
            "1875/1875 [==============================] - 5s 3ms/step - loss: 0.1843 - accuracy: 0.9417 - val_loss: 0.2175 - val_accuracy: 0.9359\n",
            "Epoch 29/50\n",
            "1875/1875 [==============================] - 5s 3ms/step - loss: 0.1832 - accuracy: 0.9419 - val_loss: 0.2567 - val_accuracy: 0.9248\n",
            "Epoch 30/50\n",
            "1875/1875 [==============================] - 5s 3ms/step - loss: 0.1783 - accuracy: 0.9445 - val_loss: 0.2217 - val_accuracy: 0.9325\n",
            "Epoch 31/50\n",
            "1875/1875 [==============================] - 5s 3ms/step - loss: 0.1821 - accuracy: 0.9424 - val_loss: 0.2252 - val_accuracy: 0.9334\n",
            "Epoch 32/50\n",
            "1875/1875 [==============================] - 5s 3ms/step - loss: 0.1784 - accuracy: 0.9439 - val_loss: 0.2249 - val_accuracy: 0.9351\n",
            "Epoch 33/50\n",
            "1875/1875 [==============================] - 5s 3ms/step - loss: 0.1789 - accuracy: 0.9430 - val_loss: 0.2187 - val_accuracy: 0.9366\n",
            "Epoch 34/50\n",
            "1875/1875 [==============================] - 5s 3ms/step - loss: 0.1780 - accuracy: 0.9434 - val_loss: 0.2567 - val_accuracy: 0.9264\n",
            "Epoch 35/50\n",
            "1875/1875 [==============================] - 5s 3ms/step - loss: 0.1795 - accuracy: 0.9433 - val_loss: 0.2391 - val_accuracy: 0.9318\n",
            "Epoch 36/50\n",
            "1875/1875 [==============================] - 5s 3ms/step - loss: 0.1787 - accuracy: 0.9437 - val_loss: 0.2457 - val_accuracy: 0.9266\n",
            "Epoch 37/50\n",
            "1875/1875 [==============================] - 5s 3ms/step - loss: 0.1758 - accuracy: 0.9443 - val_loss: 0.2334 - val_accuracy: 0.9321\n",
            "Epoch 38/50\n",
            "1875/1875 [==============================] - 5s 3ms/step - loss: 0.1763 - accuracy: 0.9439 - val_loss: 0.2287 - val_accuracy: 0.9331\n",
            "Epoch 39/50\n",
            "1875/1875 [==============================] - 5s 3ms/step - loss: 0.1751 - accuracy: 0.9442 - val_loss: 0.2508 - val_accuracy: 0.9289\n",
            "Epoch 40/50\n",
            "1875/1875 [==============================] - 5s 3ms/step - loss: 0.1728 - accuracy: 0.9450 - val_loss: 0.2274 - val_accuracy: 0.9322\n",
            "Epoch 41/50\n",
            "1875/1875 [==============================] - 5s 3ms/step - loss: 0.1722 - accuracy: 0.9448 - val_loss: 0.2326 - val_accuracy: 0.9311\n",
            "Epoch 42/50\n",
            "1875/1875 [==============================] - 5s 3ms/step - loss: 0.1719 - accuracy: 0.9454 - val_loss: 0.2158 - val_accuracy: 0.9376\n",
            "Epoch 43/50\n",
            "1875/1875 [==============================] - 5s 3ms/step - loss: 0.1714 - accuracy: 0.9454 - val_loss: 0.2138 - val_accuracy: 0.9364\n",
            "Epoch 44/50\n",
            "1875/1875 [==============================] - 5s 3ms/step - loss: 0.1707 - accuracy: 0.9459 - val_loss: 0.2434 - val_accuracy: 0.9316\n",
            "Epoch 45/50\n",
            "1875/1875 [==============================] - 5s 3ms/step - loss: 0.1705 - accuracy: 0.9460 - val_loss: 0.2312 - val_accuracy: 0.9341\n",
            "Epoch 46/50\n",
            "1875/1875 [==============================] - 5s 3ms/step - loss: 0.1679 - accuracy: 0.9462 - val_loss: 0.2412 - val_accuracy: 0.9300\n",
            "Epoch 47/50\n",
            "1875/1875 [==============================] - 5s 3ms/step - loss: 0.1707 - accuracy: 0.9457 - val_loss: 0.2241 - val_accuracy: 0.9339\n",
            "Epoch 48/50\n",
            "1875/1875 [==============================] - 5s 3ms/step - loss: 0.1681 - accuracy: 0.9471 - val_loss: 0.2274 - val_accuracy: 0.9331\n",
            "Epoch 49/50\n",
            "1875/1875 [==============================] - 5s 3ms/step - loss: 0.1675 - accuracy: 0.9469 - val_loss: 0.2406 - val_accuracy: 0.9305\n",
            "Epoch 50/50\n",
            "1875/1875 [==============================] - 5s 3ms/step - loss: 0.1696 - accuracy: 0.9456 - val_loss: 0.2206 - val_accuracy: 0.9362\n"
          ],
          "name": "stdout"
        },
        {
          "output_type": "execute_result",
          "data": {
            "text/plain": [
              "<tensorflow.python.keras.callbacks.History at 0x7fa8a4829240>"
            ]
          },
          "metadata": {
            "tags": []
          },
          "execution_count": 115
        }
      ]
    },
    {
      "cell_type": "code",
      "metadata": {
        "id": "Ba_JyaKIB-ts",
        "colab_type": "code",
        "colab": {
          "base_uri": "https://localhost:8080/",
          "height": 72
        },
        "outputId": "dc110565-f81e-4553-f60e-51ee282ac3a7"
      },
      "source": [
        "testmodel.load_weights(checkpoint_filepath)\n",
        "results = testmodel.evaluate(xtest_noisy, Y_test, batch_size=128)\n",
        "print('testmodel')\n",
        "print(\"test loss, test acc:\", results)"
      ],
      "execution_count": 116,
      "outputs": [
        {
          "output_type": "stream",
          "text": [
            "79/79 [==============================] - 0s 2ms/step - loss: 0.2138 - accuracy: 0.9364\n",
            "testmodel\n",
            "test loss, test acc: [0.2137981653213501, 0.9363999962806702]\n"
          ],
          "name": "stdout"
        }
      ]
    },
    {
      "cell_type": "markdown",
      "metadata": {
        "id": "KsfCLhO5VK78",
        "colab_type": "text"
      },
      "source": [
        "# **Adding Gaussian Noise to Model weights under DP constraints std=0.05**"
      ]
    },
    {
      "cell_type": "code",
      "metadata": {
        "id": "1lGq_3LHCqyz",
        "colab_type": "code",
        "colab": {
          "base_uri": "https://localhost:8080/",
          "height": 183
        },
        "outputId": "06a7bc92-ef19-4a35-cb8b-59ede521917f"
      },
      "source": [
        "truemodel.load_weights(checkpoint_filepath)\n",
        "results = truemodel.evaluate(X_test, Y_test, batch_size=128)\n",
        "print('truemodel')\n",
        "print(\"test loss, test acc:\", results)\n",
        "\n",
        "testmodel.load_weights(checkpoint_filepath)\n",
        "results = testmodel.evaluate(xtest_noisy, Y_test, batch_size=128)\n",
        "print('testmodel')\n",
        "print(\"test loss, test acc:\", results)\n",
        "\n",
        "\n",
        "# noise to be added\n",
        "#std=senstivity/epsilon\n",
        "std=0.05\n",
        "\n",
        "old_weights = truemodel.layers[0].get_weights()\n",
        "# adding gaussian noise in bias of first layer\n",
        "old_weights[1]=old_weights[1]+np.random.normal(0,std,512)\n",
        "# adding gaussiann noise in weights of first layer\n",
        "for i in range(784):\n",
        "  old_weights[0][i]=old_weights[0][i]+np.random.normal(0,std,512)\n",
        "\n",
        "\n",
        "#############################################################################################\n",
        "old_weights_2=truemodel.layers[1].get_weights()\n",
        "# adding gaussian noise in bias of second layer\n",
        "old_weights_2[1]=old_weights_2[1]+np.random.normal(0,std,256)\n",
        "# adding gaussiann noise in weights of second layer\n",
        "for i in range(512):\n",
        "  old_weights_2[0][i]=old_weights_2[0][i]+np.random.normal(0,std,256)\n",
        "\n",
        "\n",
        "##############################################################################################\n",
        "old_weights_3=truemodel.layers[2].get_weights()\n",
        "# adding gaussian noise in bias of third layer\n",
        "old_weights_3[1]=old_weights_3[1]+np.random.normal(0,std,128)\n",
        "# adding gaussiann noise in weights of third layer\n",
        "for i in range(256):\n",
        "  old_weights_3[0][i]=old_weights_3[0][i]+np.random.normal(0,std,128)\n",
        "\n",
        "\n",
        "##############################################################################################\n",
        "old_weights_4=truemodel.layers[3].get_weights()\n",
        "# adding gaussian noise in bias of fourth layer\n",
        "old_weights_4[1]=old_weights_4[1]+np.random.normal(0,std,64)\n",
        "# adding gaussiann noise in weights of fourth layer\n",
        "for i in range(128):\n",
        "  old_weights_4[0][i]=old_weights_4[0][i]+np.random.normal(0,std,64)\n",
        "\n",
        "\n",
        "###############################################################################################\n",
        "old_weights_5=truemodel.layers[4].get_weights()\n",
        "# adding gaussian noise in bias of fifth layer\n",
        "old_weights_5[1]=old_weights_5[1]+np.random.normal(0,std,10)\n",
        "# adding gaussiann noise in weights of fifth layer\n",
        "for i in range(64):\n",
        "  old_weights_5[0][i]=old_weights_5[0][i]+np.random.normal(0,std,10)\n",
        "\n",
        "model1=truemodel\n",
        "model1.layers[0].set_weights(old_weights)\n",
        "model1.layers[1].set_weights(old_weights_2)\n",
        "model1.layers[2].set_weights(old_weights_3)\n",
        "model1.layers[3].set_weights(old_weights_4)\n",
        "model1.layers[4].set_weights(old_weights_5)\n",
        "results = model1.evaluate(X_test, Y_test, batch_size=128)\n",
        "print('model with gaussian noise')\n",
        "print(\"test loss, test acc:\", results)"
      ],
      "execution_count": 123,
      "outputs": [
        {
          "output_type": "stream",
          "text": [
            "79/79 [==============================] - 0s 3ms/step - loss: 0.2880 - accuracy: 0.9218\n",
            "truemodel\n",
            "test loss, test acc: [0.288004070520401, 0.9218000173568726]\n",
            "79/79 [==============================] - 0s 3ms/step - loss: 3.6266 - accuracy: 0.4871\n",
            "testmodel\n",
            "test loss, test acc: [3.6265506744384766, 0.4871000051498413]\n",
            "79/79 [==============================] - 0s 2ms/step - loss: 0.8968 - accuracy: 0.7627\n",
            "model with gaussian noise\n",
            "test loss, test acc: [0.8967832326889038, 0.7627000212669373]\n"
          ],
          "name": "stdout"
        }
      ]
    }
  ]
}